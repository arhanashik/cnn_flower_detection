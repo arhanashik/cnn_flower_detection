{
 "cells": [
  {
   "cell_type": "code",
   "execution_count": 1,
   "metadata": {},
   "outputs": [
    {
     "name": "stderr",
     "output_type": "stream",
     "text": [
      "Using TensorFlow backend.\n"
     ]
    }
   ],
   "source": [
    "from keras.datasets import cifar10\n",
    "from keras.preprocessing.image import ImageDataGenerator\n",
    "from keras.models import Sequential\n",
    "from keras.layers import Convolution2D, Conv2D, MaxPooling2D, BatchNormalization\n",
    "from keras.layers import Activation, Dropout, Flatten, Dense"
   ]
  },
  {
   "cell_type": "code",
   "execution_count": 2,
   "metadata": {},
   "outputs": [
    {
     "name": "stdout",
     "output_type": "stream",
     "text": [
      "Found 976 images belonging to 17 classes.\n",
      "Found 192 images belonging to 17 classes.\n",
      "Found 192 images belonging to 17 classes.\n"
     ]
    }
   ],
   "source": [
    "# Import Images\n",
    "datagen = ImageDataGenerator()\n",
    "\n",
    "train_it = datagen.flow_from_directory('oxfordflower17/train/', class_mode='binary', target_size = (32,32), batch_size = 64)\n",
    "val_it = datagen.flow_from_directory('oxfordflower17/val/', class_mode='binary', target_size = (32,32), batch_size = 64)\n",
    "test_it = datagen.flow_from_directory('oxfordflower17/test/', class_mode='binary', target_size = (32,32), batch_size = 64)"
   ]
  },
  {
   "cell_type": "code",
   "execution_count": 3,
   "metadata": {},
   "outputs": [
    {
     "name": "stderr",
     "output_type": "stream",
     "text": [
      "WARNING: Logging before flag parsing goes to stderr.\n",
      "W0911 14:03:51.688104 140108823091008 deprecation_wrapper.py:119] From /home/academy-3/anaconda3/lib/python3.7/site-packages/keras/backend/tensorflow_backend.py:74: The name tf.get_default_graph is deprecated. Please use tf.compat.v1.get_default_graph instead.\n",
      "\n",
      "W0911 14:03:52.082238 140108823091008 deprecation_wrapper.py:119] From /home/academy-3/anaconda3/lib/python3.7/site-packages/keras/backend/tensorflow_backend.py:517: The name tf.placeholder is deprecated. Please use tf.compat.v1.placeholder instead.\n",
      "\n",
      "W0911 14:03:52.142264 140108823091008 deprecation_wrapper.py:119] From /home/academy-3/anaconda3/lib/python3.7/site-packages/keras/backend/tensorflow_backend.py:4138: The name tf.random_uniform is deprecated. Please use tf.random.uniform instead.\n",
      "\n",
      "W0911 14:03:52.196122 140108823091008 deprecation_wrapper.py:119] From /home/academy-3/anaconda3/lib/python3.7/site-packages/keras/backend/tensorflow_backend.py:174: The name tf.get_default_session is deprecated. Please use tf.compat.v1.get_default_session instead.\n",
      "\n",
      "W0911 14:03:52.197035 140108823091008 deprecation_wrapper.py:119] From /home/academy-3/anaconda3/lib/python3.7/site-packages/keras/backend/tensorflow_backend.py:181: The name tf.ConfigProto is deprecated. Please use tf.compat.v1.ConfigProto instead.\n",
      "\n",
      "W0911 14:03:53.129892 140108823091008 deprecation_wrapper.py:119] From /home/academy-3/anaconda3/lib/python3.7/site-packages/keras/backend/tensorflow_backend.py:1834: The name tf.nn.fused_batch_norm is deprecated. Please use tf.compat.v1.nn.fused_batch_norm instead.\n",
      "\n",
      "W0911 14:03:53.216725 140108823091008 deprecation.py:506] From /home/academy-3/anaconda3/lib/python3.7/site-packages/keras/backend/tensorflow_backend.py:3445: calling dropout (from tensorflow.python.ops.nn_ops) with keep_prob is deprecated and will be removed in a future version.\n",
      "Instructions for updating:\n",
      "Please use `rate` instead of `keep_prob`. Rate should be set to `rate = 1 - keep_prob`.\n"
     ]
    }
   ],
   "source": [
    "model = Sequential()\n",
    "model.add(Convolution2D(32, (3, 3), activation='relu', input_shape=(32, 32, 3)))\n",
    "model.add(BatchNormalization())\n",
    "#model.add(MaxPooling2D(pool_size=(2, 2)))\n",
    "model.add(Dropout(0.2))"
   ]
  },
  {
   "cell_type": "code",
   "execution_count": 4,
   "metadata": {},
   "outputs": [
    {
     "name": "stderr",
     "output_type": "stream",
     "text": [
      "W0911 14:03:53.342700 140108823091008 deprecation_wrapper.py:119] From /home/academy-3/anaconda3/lib/python3.7/site-packages/keras/backend/tensorflow_backend.py:3976: The name tf.nn.max_pool is deprecated. Please use tf.nn.max_pool2d instead.\n",
      "\n"
     ]
    }
   ],
   "source": [
    "model.add(Convolution2D(32, (3, 3), activation='relu'))\n",
    "model.add(BatchNormalization())\n",
    "model.add(MaxPooling2D(pool_size=(2, 2)))\n",
    "model.add(Dropout(0.2))"
   ]
  },
  {
   "cell_type": "code",
   "execution_count": 5,
   "metadata": {},
   "outputs": [],
   "source": [
    "model.add(Convolution2D(64, (3, 3), activation='relu'))\n",
    "model.add(BatchNormalization())\n",
    "model.add(MaxPooling2D(pool_size=(2, 2)))\n",
    "model.add(Dropout(0.2))"
   ]
  },
  {
   "cell_type": "code",
   "execution_count": 6,
   "metadata": {},
   "outputs": [],
   "source": [
    "model.add(Flatten())\n",
    "model.add(Dense(64, activation='relu'))\n",
    "model.add(Dropout(0.2))\n",
    "model.add(Dense(17, activation='softmax'))"
   ]
  },
  {
   "cell_type": "code",
   "execution_count": 7,
   "metadata": {},
   "outputs": [
    {
     "name": "stderr",
     "output_type": "stream",
     "text": [
      "W0911 14:03:55.466682 140108823091008 deprecation_wrapper.py:119] From /home/academy-3/anaconda3/lib/python3.7/site-packages/keras/optimizers.py:790: The name tf.train.Optimizer is deprecated. Please use tf.compat.v1.train.Optimizer instead.\n",
      "\n"
     ]
    },
    {
     "name": "stdout",
     "output_type": "stream",
     "text": [
      "_________________________________________________________________\n",
      "Layer (type)                 Output Shape              Param #   \n",
      "=================================================================\n",
      "conv2d_1 (Conv2D)            (None, 30, 30, 32)        896       \n",
      "_________________________________________________________________\n",
      "batch_normalization_1 (Batch (None, 30, 30, 32)        128       \n",
      "_________________________________________________________________\n",
      "dropout_1 (Dropout)          (None, 30, 30, 32)        0         \n",
      "_________________________________________________________________\n",
      "conv2d_2 (Conv2D)            (None, 28, 28, 32)        9248      \n",
      "_________________________________________________________________\n",
      "batch_normalization_2 (Batch (None, 28, 28, 32)        128       \n",
      "_________________________________________________________________\n",
      "max_pooling2d_1 (MaxPooling2 (None, 14, 14, 32)        0         \n",
      "_________________________________________________________________\n",
      "dropout_2 (Dropout)          (None, 14, 14, 32)        0         \n",
      "_________________________________________________________________\n",
      "conv2d_3 (Conv2D)            (None, 12, 12, 64)        18496     \n",
      "_________________________________________________________________\n",
      "batch_normalization_3 (Batch (None, 12, 12, 64)        256       \n",
      "_________________________________________________________________\n",
      "max_pooling2d_2 (MaxPooling2 (None, 6, 6, 64)          0         \n",
      "_________________________________________________________________\n",
      "dropout_3 (Dropout)          (None, 6, 6, 64)          0         \n",
      "_________________________________________________________________\n",
      "flatten_1 (Flatten)          (None, 2304)              0         \n",
      "_________________________________________________________________\n",
      "dense_1 (Dense)              (None, 64)                147520    \n",
      "_________________________________________________________________\n",
      "dropout_4 (Dropout)          (None, 64)                0         \n",
      "_________________________________________________________________\n",
      "dense_2 (Dense)              (None, 17)                1105      \n",
      "=================================================================\n",
      "Total params: 177,777\n",
      "Trainable params: 177,521\n",
      "Non-trainable params: 256\n",
      "_________________________________________________________________\n"
     ]
    }
   ],
   "source": [
    "model.compile(loss='sparse_categorical_crossentropy', optimizer='adam', metrics=['accuracy'])\n",
    "model.summary()"
   ]
  },
  {
   "cell_type": "code",
   "execution_count": 8,
   "metadata": {
    "scrolled": true
   },
   "outputs": [
    {
     "name": "stderr",
     "output_type": "stream",
     "text": [
      "W0911 14:03:58.867631 140108823091008 deprecation.py:323] From /home/academy-3/anaconda3/lib/python3.7/site-packages/tensorflow/python/ops/math_grad.py:1250: add_dispatch_support.<locals>.wrapper (from tensorflow.python.ops.array_ops) is deprecated and will be removed in a future version.\n",
      "Instructions for updating:\n",
      "Use tf.where in 2.0, which has the same broadcast rule as np.where\n"
     ]
    },
    {
     "name": "stdout",
     "output_type": "stream",
     "text": [
      "Epoch 1/30\n",
      "400/400 [==============================] - 184s 461ms/step - loss: 0.9945 - acc: 0.6737 - val_loss: 1.6350 - val_acc: 0.6207\n",
      "Epoch 2/30\n",
      "400/400 [==============================] - 173s 433ms/step - loss: 0.1490 - acc: 0.9515 - val_loss: 1.7092 - val_acc: 0.5781\n",
      "Epoch 3/30\n",
      "400/400 [==============================] - 174s 434ms/step - loss: 0.0660 - acc: 0.9782 - val_loss: 1.7468 - val_acc: 0.6340\n",
      "Epoch 4/30\n",
      "400/400 [==============================] - 176s 439ms/step - loss: 0.0539 - acc: 0.9824 - val_loss: 1.7763 - val_acc: 0.6520\n",
      "Epoch 5/30\n",
      "400/400 [==============================] - 186s 464ms/step - loss: 0.0412 - acc: 0.9874 - val_loss: 2.3365 - val_acc: 0.6031\n",
      "Epoch 6/30\n",
      "400/400 [==============================] - 181s 452ms/step - loss: 0.0401 - acc: 0.9869 - val_loss: 2.1666 - val_acc: 0.6520\n",
      "Epoch 7/30\n",
      "400/400 [==============================] - 174s 434ms/step - loss: 0.0228 - acc: 0.9927 - val_loss: 1.9385 - val_acc: 0.6937\n",
      "Epoch 8/30\n",
      "400/400 [==============================] - 185s 461ms/step - loss: 0.0378 - acc: 0.9877 - val_loss: 2.3716 - val_acc: 0.6414\n",
      "Epoch 9/30\n",
      "400/400 [==============================] - 194s 484ms/step - loss: 0.0324 - acc: 0.9889 - val_loss: 2.2854 - val_acc: 0.6516\n",
      "Epoch 10/30\n",
      "400/400 [==============================] - 182s 456ms/step - loss: 0.0185 - acc: 0.9934 - val_loss: 2.6876 - val_acc: 0.6148\n",
      "Epoch 11/30\n",
      "400/400 [==============================] - 186s 465ms/step - loss: 0.0365 - acc: 0.9875 - val_loss: 2.6604 - val_acc: 0.6406\n",
      "Epoch 12/30\n",
      "400/400 [==============================] - 205s 512ms/step - loss: 0.0218 - acc: 0.9929 - val_loss: 2.9365 - val_acc: 0.6457\n",
      "Epoch 13/30\n",
      "400/400 [==============================] - 196s 490ms/step - loss: 0.0170 - acc: 0.9951 - val_loss: 2.6500 - val_acc: 0.6496\n",
      "Epoch 14/30\n",
      "400/400 [==============================] - 176s 439ms/step - loss: 0.0210 - acc: 0.9930 - val_loss: 2.5821 - val_acc: 0.6379\n",
      "Epoch 15/30\n",
      "400/400 [==============================] - 195s 486ms/step - loss: 0.0181 - acc: 0.9945 - val_loss: 2.9222 - val_acc: 0.6246\n",
      "Epoch 16/30\n",
      "400/400 [==============================] - 195s 487ms/step - loss: 0.0225 - acc: 0.9935 - val_loss: 3.3460 - val_acc: 0.6035\n",
      "Epoch 17/30\n",
      "400/400 [==============================] - 187s 468ms/step - loss: 0.0247 - acc: 0.9924 - val_loss: 3.1306 - val_acc: 0.6176\n",
      "Epoch 18/30\n",
      "400/400 [==============================] - 184s 460ms/step - loss: 0.0203 - acc: 0.9939 - val_loss: 3.2645 - val_acc: 0.6047\n",
      "Epoch 19/30\n",
      "400/400 [==============================] - 181s 452ms/step - loss: 0.0167 - acc: 0.9946 - val_loss: 3.0827 - val_acc: 0.6492\n",
      "Epoch 20/30\n",
      "400/400 [==============================] - 185s 462ms/step - loss: 0.0113 - acc: 0.9964 - val_loss: 2.8841 - val_acc: 0.6578\n",
      "Epoch 21/30\n",
      "400/400 [==============================] - 187s 468ms/step - loss: 0.0288 - acc: 0.9913 - val_loss: 3.0742 - val_acc: 0.6504\n",
      "Epoch 22/30\n",
      "400/400 [==============================] - 189s 473ms/step - loss: 0.0138 - acc: 0.9955 - val_loss: 3.2343 - val_acc: 0.6199\n",
      "Epoch 23/30\n",
      "400/400 [==============================] - 180s 451ms/step - loss: 0.0139 - acc: 0.9951 - val_loss: 3.3703 - val_acc: 0.6238\n",
      "Epoch 24/30\n",
      "400/400 [==============================] - 183s 458ms/step - loss: 0.0199 - acc: 0.9943 - val_loss: 3.1074 - val_acc: 0.6297\n",
      "Epoch 25/30\n",
      "400/400 [==============================] - 182s 454ms/step - loss: 0.0185 - acc: 0.9949 - val_loss: 3.5907 - val_acc: 0.5938\n",
      "Epoch 26/30\n",
      "400/400 [==============================] - 182s 455ms/step - loss: 0.0191 - acc: 0.9946 - val_loss: 3.6865 - val_acc: 0.5680\n",
      "Epoch 27/30\n",
      "400/400 [==============================] - 175s 437ms/step - loss: 0.0152 - acc: 0.9956 - val_loss: 3.4956 - val_acc: 0.6348\n",
      "Epoch 28/30\n",
      "400/400 [==============================] - 176s 440ms/step - loss: 0.0107 - acc: 0.9964 - val_loss: 3.1124 - val_acc: 0.6512\n",
      "Epoch 29/30\n",
      "400/400 [==============================] - 180s 450ms/step - loss: 0.0129 - acc: 0.9957 - val_loss: 3.3639 - val_acc: 0.6637\n",
      "Epoch 30/30\n",
      "400/400 [==============================] - 177s 442ms/step - loss: 0.0137 - acc: 0.9957 - val_loss: 4.8611 - val_acc: 0.5543\n"
     ]
    },
    {
     "data": {
      "text/plain": [
       "<keras.callbacks.History at 0x7f6d57442c50>"
      ]
     },
     "execution_count": 8,
     "metadata": {},
     "output_type": "execute_result"
    }
   ],
   "source": [
    "model.fit_generator(\n",
    "        train_it,\n",
    "        steps_per_epoch=400,\n",
    "        epochs=30,\n",
    "        validation_data=val_it,\n",
    "        validation_steps=40)"
   ]
  },
  {
   "cell_type": "code",
   "execution_count": 105,
   "metadata": {},
   "outputs": [
    {
     "name": "stdout",
     "output_type": "stream",
     "text": [
      "_________________________________________________________________\n",
      "Layer (type)                 Output Shape              Param #   \n",
      "=================================================================\n",
      "conv2d_29 (Conv2D)           (None, 30, 30, 32)        896       \n",
      "_________________________________________________________________\n",
      "batch_normalization_1 (Batch (None, 30, 30, 32)        128       \n",
      "_________________________________________________________________\n",
      "max_pooling2d_23 (MaxPooling (None, 15, 15, 32)        0         \n",
      "_________________________________________________________________\n",
      "dropout_20 (Dropout)         (None, 15, 15, 32)        0         \n",
      "_________________________________________________________________\n",
      "conv2d_30 (Conv2D)           (None, 13, 13, 32)        9248      \n",
      "_________________________________________________________________\n",
      "batch_normalization_2 (Batch (None, 13, 13, 32)        128       \n",
      "_________________________________________________________________\n",
      "max_pooling2d_24 (MaxPooling (None, 6, 6, 32)          0         \n",
      "_________________________________________________________________\n",
      "dropout_21 (Dropout)         (None, 6, 6, 32)          0         \n",
      "_________________________________________________________________\n",
      "conv2d_31 (Conv2D)           (None, 4, 4, 32)          9248      \n",
      "_________________________________________________________________\n",
      "batch_normalization_3 (Batch (None, 4, 4, 32)          128       \n",
      "_________________________________________________________________\n",
      "max_pooling2d_25 (MaxPooling (None, 2, 2, 32)          0         \n",
      "_________________________________________________________________\n",
      "dropout_22 (Dropout)         (None, 2, 2, 32)          0         \n",
      "_________________________________________________________________\n",
      "flatten_11 (Flatten)         (None, 128)               0         \n",
      "_________________________________________________________________\n",
      "dense_14 (Dense)             (None, 64)                8256      \n",
      "_________________________________________________________________\n",
      "dropout_23 (Dropout)         (None, 64)                0         \n",
      "_________________________________________________________________\n",
      "dense_15 (Dense)             (None, 17)                1105      \n",
      "=================================================================\n",
      "Total params: 29,137\n",
      "Trainable params: 28,945\n",
      "Non-trainable params: 192\n",
      "_________________________________________________________________\n"
     ]
    }
   ],
   "source": [
    "model.save_weights('first_try.h5')"
   ]
  },
  {
   "cell_type": "code",
   "execution_count": null,
   "metadata": {},
   "outputs": [],
   "source": [
    "model.save(\"cnn_flower_detection.h5\")\n",
    "print(\"Saved model to disk\")"
   ]
  },
  {
   "cell_type": "code",
   "execution_count": null,
   "metadata": {},
   "outputs": [],
   "source": []
  }
 ],
 "metadata": {
  "kernelspec": {
   "display_name": "Python 3",
   "language": "python",
   "name": "python3"
  },
  "language_info": {
   "codemirror_mode": {
    "name": "ipython",
    "version": 3
   },
   "file_extension": ".py",
   "mimetype": "text/x-python",
   "name": "python",
   "nbconvert_exporter": "python",
   "pygments_lexer": "ipython3",
   "version": "3.7.3"
  }
 },
 "nbformat": 4,
 "nbformat_minor": 2
}
